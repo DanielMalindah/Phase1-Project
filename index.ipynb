{
 "cells": [
  {
   "attachments": {},
   "cell_type": "markdown",
   "metadata": {},
   "source": [
    "# Introduction\n",
    "## a. Business understanding\n",
    "Microsoft is a company that is well known for making great software prducts which are wired towards the windows operating systems and most of the software that is in line with that. Microsoft is a company that was formed in 1975. Its main objective is to ensure that its customers are comfortable when working, playing or communicate while interacting with the product. Microsoft has offices in more than 100 countries.\n",
    "\n",
    "Microsoft mainly gains its profits from developing, licensing many products and services in conjuction with selling hardware and software which is one of their major strongholds. Microsoft also has products such as personal computers, servers, mobile phones. They also deal with hardware such as Xbox gaming and entertainment console, Xbox 360 accessories and other hardware products. They also provide consultation, product and support services and all kind of cloud based solutions. \n",
    "\n",
    "Movie making is a craft which most companies are leveraging based on the fact that most companies are gaining through it. This is whereby most companies take their time to come up with, create files and videos which are are attached together to come up with excellent movies altogether. \n",
    "\n",
    "Microsoft having witnessed how this has helped other companies, its therefore looking for ways in which they can also leverage on that to ensure that they also achieve from that.Microsoft wants to venture into the movie making business. Microsoft being a technological company, this has proved to be  a weighty matter since thy have not handled such kind of a business before. \n",
    "\n",
    "The project involves use of data to help Microsoft have the knowhow of making a movie, what is involved in the process  and know which movies are doing best right know so that they will most likely invest in that to capitalize in making much profits. \n",
    "\n",
    "## b. Problem Statement\n",
    "Movie making is an interesting art which most companies enjoy to do. The art has caused some companies to make way much profits than other in the previous years. Microsoft therefore is looking at ways in which they can do this and be better at it.\n",
    "In that spirit, I have decided to use a few instuments in my learning curve to ensure that Microsoft can make better decisions in this journey.\n",
    "\n",
    "# Objectives\n",
    "> Which studio is making most profits?\n",
    "> Know what kind of movies are loved most by people?\n",
    "> "
   ]
  },
  {
   "cell_type": "code",
   "execution_count": 1,
   "metadata": {},
   "outputs": [],
   "source": [
    "# Initializing all the imports\n",
    "import pandas as pd\n",
    "import numpy as np\n",
    "import csv\n",
    "import matplotlib.pyplot as plt\n",
    "%matplotlib inline"
   ]
  },
  {
   "cell_type": "code",
   "execution_count": 3,
   "metadata": {},
   "outputs": [
    {
     "data": {
      "text/html": [
       "<div>\n",
       "<style scoped>\n",
       "    .dataframe tbody tr th:only-of-type {\n",
       "        vertical-align: middle;\n",
       "    }\n",
       "\n",
       "    .dataframe tbody tr th {\n",
       "        vertical-align: top;\n",
       "    }\n",
       "\n",
       "    .dataframe thead th {\n",
       "        text-align: right;\n",
       "    }\n",
       "</style>\n",
       "<table border=\"1\" class=\"dataframe\">\n",
       "  <thead>\n",
       "    <tr style=\"text-align: right;\">\n",
       "      <th></th>\n",
       "      <th>title</th>\n",
       "      <th>studio</th>\n",
       "      <th>domestic_gross</th>\n",
       "      <th>foreign_gross</th>\n",
       "      <th>year</th>\n",
       "    </tr>\n",
       "  </thead>\n",
       "  <tbody>\n",
       "    <tr>\n",
       "      <th>0</th>\n",
       "      <td>Toy Story 3</td>\n",
       "      <td>BV</td>\n",
       "      <td>415000000.0</td>\n",
       "      <td>652000000</td>\n",
       "      <td>2010</td>\n",
       "    </tr>\n",
       "    <tr>\n",
       "      <th>1</th>\n",
       "      <td>Alice in Wonderland (2010)</td>\n",
       "      <td>BV</td>\n",
       "      <td>334200000.0</td>\n",
       "      <td>691300000</td>\n",
       "      <td>2010</td>\n",
       "    </tr>\n",
       "    <tr>\n",
       "      <th>2</th>\n",
       "      <td>Harry Potter and the Deathly Hallows Part 1</td>\n",
       "      <td>WB</td>\n",
       "      <td>296000000.0</td>\n",
       "      <td>664300000</td>\n",
       "      <td>2010</td>\n",
       "    </tr>\n",
       "    <tr>\n",
       "      <th>3</th>\n",
       "      <td>Inception</td>\n",
       "      <td>WB</td>\n",
       "      <td>292600000.0</td>\n",
       "      <td>535700000</td>\n",
       "      <td>2010</td>\n",
       "    </tr>\n",
       "    <tr>\n",
       "      <th>4</th>\n",
       "      <td>Shrek Forever After</td>\n",
       "      <td>P/DW</td>\n",
       "      <td>238700000.0</td>\n",
       "      <td>513900000</td>\n",
       "      <td>2010</td>\n",
       "    </tr>\n",
       "  </tbody>\n",
       "</table>\n",
       "</div>"
      ],
      "text/plain": [
       "                                         title studio  domestic_gross   \n",
       "0                                  Toy Story 3     BV     415000000.0  \\\n",
       "1                   Alice in Wonderland (2010)     BV     334200000.0   \n",
       "2  Harry Potter and the Deathly Hallows Part 1     WB     296000000.0   \n",
       "3                                    Inception     WB     292600000.0   \n",
       "4                          Shrek Forever After   P/DW     238700000.0   \n",
       "\n",
       "  foreign_gross  year  \n",
       "0     652000000  2010  \n",
       "1     691300000  2010  \n",
       "2     664300000  2010  \n",
       "3     535700000  2010  \n",
       "4     513900000  2010  "
      ]
     },
     "execution_count": 3,
     "metadata": {},
     "output_type": "execute_result"
    }
   ],
   "source": [
    "# We read data from the csv file to know what is inside in the first five rows\n",
    "df = pd.read_csv('bom.movie_gross.csv')\n",
    "df.head()"
   ]
  },
  {
   "cell_type": "code",
   "execution_count": null,
   "metadata": {},
   "outputs": [],
   "source": []
  }
 ],
 "metadata": {
  "kernelspec": {
   "display_name": "Python (learn-env)",
   "language": "python",
   "name": "learn-env"
  },
  "language_info": {
   "codemirror_mode": {
    "name": "ipython",
    "version": 3
   },
   "file_extension": ".py",
   "mimetype": "text/x-python",
   "name": "python",
   "nbconvert_exporter": "python",
   "pygments_lexer": "ipython3",
   "version": "3.10.11"
  }
 },
 "nbformat": 4,
 "nbformat_minor": 2
}
